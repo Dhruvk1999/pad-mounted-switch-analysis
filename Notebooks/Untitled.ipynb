{
 "cells": [
  {
   "cell_type": "code",
   "execution_count": 53,
   "metadata": {},
   "outputs": [],
   "source": [
    "import pandas as pd\n",
    "import numpy as np\n",
    "import matplotlib.pyplot as plt\n",
    "import seaborn as sns\n",
    "import sklearn\n",
    "%matplotlib inline\n",
    "df_17 = pd.read_excel('C:/Users/User/Documents/PadMount/Data/2017.xlsx', index_col='ID')\n",
    "df_12 = pd.read_excel('C:/Users/User/Documents/PadMount/Data/2012.xlsx', index_col='ID')\n",
    "df_07 = pd.read_excel('C:/Users/User/Documents/PadMount/Data/2007.xlsx', index_col='ID')\n",
    "df_02 = pd.read_excel('C:/Users/User/Documents/PadMount/Data/2002.xlsx', index_col='ID')"
   ]
  },
  {
   "cell_type": "markdown",
   "metadata": {},
   "source": [
    "# Data Pre-Processing\n",
    "* We are changing all the strings to numbers so that it's easy for processing.\n",
    "* 0 - No Defects\n",
    "* 1 - Minor Defects\n",
    "* 2 - Moderate Defects\n",
    "* 3 - Significant Defects\n",
    "* 4 - Serious Defects"
   ]
  },
  {
   "cell_type": "code",
   "execution_count": 41,
   "metadata": {},
   "outputs": [
    {
     "data": {
      "text/html": [
       "<div>\n",
       "<style scoped>\n",
       "    .dataframe tbody tr th:only-of-type {\n",
       "        vertical-align: middle;\n",
       "    }\n",
       "\n",
       "    .dataframe tbody tr th {\n",
       "        vertical-align: top;\n",
       "    }\n",
       "\n",
       "    .dataframe thead th {\n",
       "        text-align: right;\n",
       "    }\n",
       "</style>\n",
       "<table border=\"1\" class=\"dataframe\">\n",
       "  <thead>\n",
       "    <tr style=\"text-align: right;\">\n",
       "      <th></th>\n",
       "      <th>Age</th>\n",
       "      <th>Infrared Scan Results</th>\n",
       "      <th>Enclosure</th>\n",
       "      <th>Terminations</th>\n",
       "      <th>Blades</th>\n",
       "      <th>Operating Mechanism</th>\n",
       "      <th>Pad</th>\n",
       "      <th>Health Index</th>\n",
       "    </tr>\n",
       "    <tr>\n",
       "      <th>ID</th>\n",
       "      <th></th>\n",
       "      <th></th>\n",
       "      <th></th>\n",
       "      <th></th>\n",
       "      <th></th>\n",
       "      <th></th>\n",
       "      <th></th>\n",
       "      <th></th>\n",
       "    </tr>\n",
       "  </thead>\n",
       "  <tbody>\n",
       "    <tr>\n",
       "      <th>1</th>\n",
       "      <td>32</td>\n",
       "      <td>0.03</td>\n",
       "      <td>Moderate Defects</td>\n",
       "      <td>Moderate Defects</td>\n",
       "      <td>Moderate Defects</td>\n",
       "      <td>Moderate Defects</td>\n",
       "      <td>Moderate Defects</td>\n",
       "      <td>3.9</td>\n",
       "    </tr>\n",
       "    <tr>\n",
       "      <th>2</th>\n",
       "      <td>56</td>\n",
       "      <td>0.31</td>\n",
       "      <td>Serious Defects</td>\n",
       "      <td>Serious Defects</td>\n",
       "      <td>Serious Defects</td>\n",
       "      <td>Serious Defects</td>\n",
       "      <td>Significant Defects</td>\n",
       "      <td>2.7</td>\n",
       "    </tr>\n",
       "    <tr>\n",
       "      <th>3</th>\n",
       "      <td>29</td>\n",
       "      <td>0.02</td>\n",
       "      <td>Moderate Defects</td>\n",
       "      <td>Moderate Defects</td>\n",
       "      <td>Moderate Defects</td>\n",
       "      <td>Moderate Defects</td>\n",
       "      <td>Moderate Defects</td>\n",
       "      <td>4.0</td>\n",
       "    </tr>\n",
       "    <tr>\n",
       "      <th>4</th>\n",
       "      <td>17</td>\n",
       "      <td>0.00</td>\n",
       "      <td>Minor Defects</td>\n",
       "      <td>Minor Defects</td>\n",
       "      <td>Minor Defects</td>\n",
       "      <td>Minor Defects</td>\n",
       "      <td>Minor Defects</td>\n",
       "      <td>4.5</td>\n",
       "    </tr>\n",
       "    <tr>\n",
       "      <th>5</th>\n",
       "      <td>15</td>\n",
       "      <td>0.00</td>\n",
       "      <td>Minor Defects</td>\n",
       "      <td>Minor Defects</td>\n",
       "      <td>Minor Defects</td>\n",
       "      <td>Minor Defects</td>\n",
       "      <td>Minor Defects</td>\n",
       "      <td>4.5</td>\n",
       "    </tr>\n",
       "  </tbody>\n",
       "</table>\n",
       "</div>"
      ],
      "text/plain": [
       "    Age  Infrared Scan Results         Enclosure      Terminations  \\\n",
       "ID                                                                   \n",
       "1    32                   0.03  Moderate Defects  Moderate Defects   \n",
       "2    56                   0.31   Serious Defects   Serious Defects   \n",
       "3    29                   0.02  Moderate Defects  Moderate Defects   \n",
       "4    17                   0.00     Minor Defects     Minor Defects   \n",
       "5    15                   0.00     Minor Defects     Minor Defects   \n",
       "\n",
       "              Blades Operating Mechanism                  Pad  Health Index  \n",
       "ID                                                                           \n",
       "1   Moderate Defects    Moderate Defects     Moderate Defects           3.9  \n",
       "2    Serious Defects     Serious Defects  Significant Defects           2.7  \n",
       "3   Moderate Defects    Moderate Defects     Moderate Defects           4.0  \n",
       "4      Minor Defects       Minor Defects        Minor Defects           4.5  \n",
       "5      Minor Defects       Minor Defects        Minor Defects           4.5  "
      ]
     },
     "execution_count": 41,
     "metadata": {},
     "output_type": "execute_result"
    }
   ],
   "source": [
    "df_17.head(5)"
   ]
  },
  {
   "cell_type": "code",
   "execution_count": 42,
   "metadata": {},
   "outputs": [
    {
     "data": {
      "text/plain": [
       "array(['Moderate Defects', 'Serious Defects', 'Minor Defects',\n",
       "       'Significant Defects'], dtype=object)"
      ]
     },
     "execution_count": 42,
     "metadata": {},
     "output_type": "execute_result"
    }
   ],
   "source": [
    "df_17.Enclosure.unique()"
   ]
  },
  {
   "cell_type": "code",
   "execution_count": 43,
   "metadata": {},
   "outputs": [
    {
     "data": {
      "text/plain": [
       "array(['Moderate Defects', 'Serious Defects', 'Minor Defects',\n",
       "       'Significant Defects'], dtype=object)"
      ]
     },
     "execution_count": 43,
     "metadata": {},
     "output_type": "execute_result"
    }
   ],
   "source": [
    "df_17.Terminations.unique()"
   ]
  },
  {
   "cell_type": "code",
   "execution_count": 44,
   "metadata": {},
   "outputs": [
    {
     "data": {
      "text/plain": [
       "array(['Moderate Defects', 'Serious Defects', 'Minor Defects',\n",
       "       'Significant Defects'], dtype=object)"
      ]
     },
     "execution_count": 44,
     "metadata": {},
     "output_type": "execute_result"
    }
   ],
   "source": [
    "df_17.Blades.unique()"
   ]
  },
  {
   "cell_type": "code",
   "execution_count": 45,
   "metadata": {},
   "outputs": [
    {
     "data": {
      "text/plain": [
       "array(['Moderate Defects', 'Serious Defects', 'Minor Defects',\n",
       "       'Significant Defects'], dtype=object)"
      ]
     },
     "execution_count": 45,
     "metadata": {},
     "output_type": "execute_result"
    }
   ],
   "source": [
    "df_17['Operating Mechanism'].unique()"
   ]
  },
  {
   "cell_type": "code",
   "execution_count": 46,
   "metadata": {},
   "outputs": [
    {
     "data": {
      "text/plain": [
       "array(['Moderate Defects', 'Significant Defects', 'Minor Defects',\n",
       "       'Serious Defects'], dtype=object)"
      ]
     },
     "execution_count": 46,
     "metadata": {},
     "output_type": "execute_result"
    }
   ],
   "source": [
    "df_17.Pad.unique()"
   ]
  },
  {
   "cell_type": "code",
   "execution_count": 47,
   "metadata": {},
   "outputs": [],
   "source": [
    "def replace(df, columnName):\n",
    "    df[columnName] = [0 if s == 'No Defect' else s for s in df[columnName]] \n",
    "    df[columnName] = [1 if s == 'Minor Defects' else s for s in df[columnName]] \n",
    "    df[columnName] = [2 if s == 'Moderate Defects' else s for s in df[columnName]] \n",
    "    df[columnName] = [3 if s == 'Significant Defects' else s for s in df[columnName]] \n",
    "    df[columnName] = [4 if s == 'Serious Defects' else s for s in df[columnName]] "
   ]
  },
  {
   "cell_type": "code",
   "execution_count": 69,
   "metadata": {},
   "outputs": [],
   "source": [
    "replace(df_17, 'Enclosure')\n",
    "replace(df_17, 'Terminations')\n",
    "replace(df_17, 'Blades')\n",
    "replace(df_17, 'Operating Mechanism')\n",
    "replace(df_17, 'Pad')"
   ]
  },
  {
   "cell_type": "code",
   "execution_count": 49,
   "metadata": {
    "scrolled": true
   },
   "outputs": [
    {
     "data": {
      "text/html": [
       "<div>\n",
       "<style scoped>\n",
       "    .dataframe tbody tr th:only-of-type {\n",
       "        vertical-align: middle;\n",
       "    }\n",
       "\n",
       "    .dataframe tbody tr th {\n",
       "        vertical-align: top;\n",
       "    }\n",
       "\n",
       "    .dataframe thead th {\n",
       "        text-align: right;\n",
       "    }\n",
       "</style>\n",
       "<table border=\"1\" class=\"dataframe\">\n",
       "  <thead>\n",
       "    <tr style=\"text-align: right;\">\n",
       "      <th></th>\n",
       "      <th>Age</th>\n",
       "      <th>Infrared Scan Results</th>\n",
       "      <th>Enclosure</th>\n",
       "      <th>Terminations</th>\n",
       "      <th>Blades</th>\n",
       "      <th>Operating Mechanism</th>\n",
       "      <th>Pad</th>\n",
       "      <th>Health Index</th>\n",
       "    </tr>\n",
       "    <tr>\n",
       "      <th>ID</th>\n",
       "      <th></th>\n",
       "      <th></th>\n",
       "      <th></th>\n",
       "      <th></th>\n",
       "      <th></th>\n",
       "      <th></th>\n",
       "      <th></th>\n",
       "      <th></th>\n",
       "    </tr>\n",
       "  </thead>\n",
       "  <tbody>\n",
       "    <tr>\n",
       "      <th>1</th>\n",
       "      <td>32</td>\n",
       "      <td>0.03</td>\n",
       "      <td>2</td>\n",
       "      <td>2</td>\n",
       "      <td>2</td>\n",
       "      <td>2</td>\n",
       "      <td>2</td>\n",
       "      <td>3.9</td>\n",
       "    </tr>\n",
       "    <tr>\n",
       "      <th>2</th>\n",
       "      <td>56</td>\n",
       "      <td>0.31</td>\n",
       "      <td>4</td>\n",
       "      <td>4</td>\n",
       "      <td>4</td>\n",
       "      <td>4</td>\n",
       "      <td>3</td>\n",
       "      <td>2.7</td>\n",
       "    </tr>\n",
       "    <tr>\n",
       "      <th>3</th>\n",
       "      <td>29</td>\n",
       "      <td>0.02</td>\n",
       "      <td>2</td>\n",
       "      <td>2</td>\n",
       "      <td>2</td>\n",
       "      <td>2</td>\n",
       "      <td>2</td>\n",
       "      <td>4.0</td>\n",
       "    </tr>\n",
       "    <tr>\n",
       "      <th>4</th>\n",
       "      <td>17</td>\n",
       "      <td>0.00</td>\n",
       "      <td>1</td>\n",
       "      <td>1</td>\n",
       "      <td>1</td>\n",
       "      <td>1</td>\n",
       "      <td>1</td>\n",
       "      <td>4.5</td>\n",
       "    </tr>\n",
       "    <tr>\n",
       "      <th>5</th>\n",
       "      <td>15</td>\n",
       "      <td>0.00</td>\n",
       "      <td>1</td>\n",
       "      <td>1</td>\n",
       "      <td>1</td>\n",
       "      <td>1</td>\n",
       "      <td>1</td>\n",
       "      <td>4.5</td>\n",
       "    </tr>\n",
       "  </tbody>\n",
       "</table>\n",
       "</div>"
      ],
      "text/plain": [
       "    Age  Infrared Scan Results  Enclosure  Terminations  Blades  \\\n",
       "ID                                                                \n",
       "1    32                   0.03          2             2       2   \n",
       "2    56                   0.31          4             4       4   \n",
       "3    29                   0.02          2             2       2   \n",
       "4    17                   0.00          1             1       1   \n",
       "5    15                   0.00          1             1       1   \n",
       "\n",
       "    Operating Mechanism  Pad  Health Index  \n",
       "ID                                          \n",
       "1                     2    2           3.9  \n",
       "2                     4    3           2.7  \n",
       "3                     2    2           4.0  \n",
       "4                     1    1           4.5  \n",
       "5                     1    1           4.5  "
      ]
     },
     "execution_count": 49,
     "metadata": {},
     "output_type": "execute_result"
    }
   ],
   "source": [
    "df_17.head(5)"
   ]
  },
  {
   "cell_type": "code",
   "execution_count": 50,
   "metadata": {},
   "outputs": [
    {
     "data": {
      "text/html": [
       "<div>\n",
       "<style scoped>\n",
       "    .dataframe tbody tr th:only-of-type {\n",
       "        vertical-align: middle;\n",
       "    }\n",
       "\n",
       "    .dataframe tbody tr th {\n",
       "        vertical-align: top;\n",
       "    }\n",
       "\n",
       "    .dataframe thead th {\n",
       "        text-align: right;\n",
       "    }\n",
       "</style>\n",
       "<table border=\"1\" class=\"dataframe\">\n",
       "  <thead>\n",
       "    <tr style=\"text-align: right;\">\n",
       "      <th></th>\n",
       "      <th>Age</th>\n",
       "      <th>Infrared Scan Results</th>\n",
       "      <th>Enclosure</th>\n",
       "      <th>Terminations</th>\n",
       "      <th>Blades</th>\n",
       "      <th>Operating Mechanism</th>\n",
       "      <th>Pad</th>\n",
       "      <th>Health Index</th>\n",
       "    </tr>\n",
       "  </thead>\n",
       "  <tbody>\n",
       "    <tr>\n",
       "      <th>Age</th>\n",
       "      <td>1.000000</td>\n",
       "      <td>0.914362</td>\n",
       "      <td>0.919478</td>\n",
       "      <td>0.960665</td>\n",
       "      <td>0.960591</td>\n",
       "      <td>0.941344</td>\n",
       "      <td>0.977661</td>\n",
       "      <td>-0.950191</td>\n",
       "    </tr>\n",
       "    <tr>\n",
       "      <th>Infrared Scan Results</th>\n",
       "      <td>0.914362</td>\n",
       "      <td>1.000000</td>\n",
       "      <td>0.700222</td>\n",
       "      <td>0.795586</td>\n",
       "      <td>0.797685</td>\n",
       "      <td>0.747197</td>\n",
       "      <td>0.881450</td>\n",
       "      <td>-0.913542</td>\n",
       "    </tr>\n",
       "    <tr>\n",
       "      <th>Enclosure</th>\n",
       "      <td>0.919478</td>\n",
       "      <td>0.700222</td>\n",
       "      <td>1.000000</td>\n",
       "      <td>0.947570</td>\n",
       "      <td>0.945930</td>\n",
       "      <td>0.968142</td>\n",
       "      <td>0.907658</td>\n",
       "      <td>-0.851062</td>\n",
       "    </tr>\n",
       "    <tr>\n",
       "      <th>Terminations</th>\n",
       "      <td>0.960665</td>\n",
       "      <td>0.795586</td>\n",
       "      <td>0.947570</td>\n",
       "      <td>1.000000</td>\n",
       "      <td>0.974207</td>\n",
       "      <td>0.967918</td>\n",
       "      <td>0.941048</td>\n",
       "      <td>-0.889483</td>\n",
       "    </tr>\n",
       "    <tr>\n",
       "      <th>Blades</th>\n",
       "      <td>0.960591</td>\n",
       "      <td>0.797685</td>\n",
       "      <td>0.945930</td>\n",
       "      <td>0.974207</td>\n",
       "      <td>1.000000</td>\n",
       "      <td>0.964854</td>\n",
       "      <td>0.942370</td>\n",
       "      <td>-0.889769</td>\n",
       "    </tr>\n",
       "    <tr>\n",
       "      <th>Operating Mechanism</th>\n",
       "      <td>0.941344</td>\n",
       "      <td>0.747197</td>\n",
       "      <td>0.968142</td>\n",
       "      <td>0.967918</td>\n",
       "      <td>0.964854</td>\n",
       "      <td>1.000000</td>\n",
       "      <td>0.923767</td>\n",
       "      <td>-0.869995</td>\n",
       "    </tr>\n",
       "    <tr>\n",
       "      <th>Pad</th>\n",
       "      <td>0.977661</td>\n",
       "      <td>0.881450</td>\n",
       "      <td>0.907658</td>\n",
       "      <td>0.941048</td>\n",
       "      <td>0.942370</td>\n",
       "      <td>0.923767</td>\n",
       "      <td>1.000000</td>\n",
       "      <td>-0.928234</td>\n",
       "    </tr>\n",
       "    <tr>\n",
       "      <th>Health Index</th>\n",
       "      <td>-0.950191</td>\n",
       "      <td>-0.913542</td>\n",
       "      <td>-0.851062</td>\n",
       "      <td>-0.889483</td>\n",
       "      <td>-0.889769</td>\n",
       "      <td>-0.869995</td>\n",
       "      <td>-0.928234</td>\n",
       "      <td>1.000000</td>\n",
       "    </tr>\n",
       "  </tbody>\n",
       "</table>\n",
       "</div>"
      ],
      "text/plain": [
       "                            Age  Infrared Scan Results  Enclosure  \\\n",
       "Age                    1.000000               0.914362   0.919478   \n",
       "Infrared Scan Results  0.914362               1.000000   0.700222   \n",
       "Enclosure              0.919478               0.700222   1.000000   \n",
       "Terminations           0.960665               0.795586   0.947570   \n",
       "Blades                 0.960591               0.797685   0.945930   \n",
       "Operating Mechanism    0.941344               0.747197   0.968142   \n",
       "Pad                    0.977661               0.881450   0.907658   \n",
       "Health Index          -0.950191              -0.913542  -0.851062   \n",
       "\n",
       "                       Terminations    Blades  Operating Mechanism       Pad  \\\n",
       "Age                        0.960665  0.960591             0.941344  0.977661   \n",
       "Infrared Scan Results      0.795586  0.797685             0.747197  0.881450   \n",
       "Enclosure                  0.947570  0.945930             0.968142  0.907658   \n",
       "Terminations               1.000000  0.974207             0.967918  0.941048   \n",
       "Blades                     0.974207  1.000000             0.964854  0.942370   \n",
       "Operating Mechanism        0.967918  0.964854             1.000000  0.923767   \n",
       "Pad                        0.941048  0.942370             0.923767  1.000000   \n",
       "Health Index              -0.889483 -0.889769            -0.869995 -0.928234   \n",
       "\n",
       "                       Health Index  \n",
       "Age                       -0.950191  \n",
       "Infrared Scan Results     -0.913542  \n",
       "Enclosure                 -0.851062  \n",
       "Terminations              -0.889483  \n",
       "Blades                    -0.889769  \n",
       "Operating Mechanism       -0.869995  \n",
       "Pad                       -0.928234  \n",
       "Health Index               1.000000  "
      ]
     },
     "execution_count": 50,
     "metadata": {},
     "output_type": "execute_result"
    }
   ],
   "source": [
    "df_17.corr()"
   ]
  },
  {
   "cell_type": "code",
   "execution_count": 52,
   "metadata": {},
   "outputs": [
    {
     "data": {
      "text/plain": [
       "<AxesSubplot:>"
      ]
     },
     "execution_count": 52,
     "metadata": {},
     "output_type": "execute_result"
    },
    {
     "data": {
      "image/png": "[encoded data removed]",
      "text/plain": [
       "<Figure size 432x288 with 2 Axes>"
      ]
     },
     "metadata": {
      "needs_background": "light"
     },
     "output_type": "display_data"
    }
   ],
   "source": [
    "sns.heatmap(df_17.corr(), cmap='coolwarm')"
   ]
  },
  {
   "cell_type": "markdown",
   "metadata": {},
   "source": [
    "# Sample Model"
   ]
  },
  {
   "cell_type": "code",
   "execution_count": 58,
   "metadata": {},
   "outputs": [
    {
     "data": {
      "text/plain": [
       "Index(['Age', 'Infrared Scan Results', 'Enclosure', 'Terminations', 'Blades',\n",
       "       'Operating Mechanism', 'Pad', 'Health Index'],\n",
       "      dtype='object')"
      ]
     },
     "execution_count": 58,
     "metadata": {},
     "output_type": "execute_result"
    }
   ],
   "source": [
    "df_17.columns"
   ]
  },
  {
   "cell_type": "code",
   "execution_count": 72,
   "metadata": {},
   "outputs": [],
   "source": [
    "X = df_17[['Age', 'Infrared Scan Results', 'Enclosure', 'Terminations', 'Blades',\n",
    "       'Operating Mechanism', 'Pad']]\n",
    "y = df_17['Health Index']"
   ]
  },
  {
   "cell_type": "code",
   "execution_count": 91,
   "metadata": {},
   "outputs": [],
   "source": [
    "from sklearn.linear_model import LinearRegression as LR\n",
    "from sklearn.model_selection import train_test_split\n",
    "from sklearn.metrics import mean_absolute_error\n",
    "X_train, X_test, y_train, y_test = train_test_split(X, y, test_size=0.1, random_state=42)"
   ]
  },
  {
   "cell_type": "code",
   "execution_count": 83,
   "metadata": {},
   "outputs": [
    {
     "data": {
      "text/plain": [
       "LinearRegression()"
      ]
     },
     "execution_count": 83,
     "metadata": {},
     "output_type": "execute_result"
    }
   ],
   "source": [
    "linearModel = LR()\n",
    "linearModel.fit(X_train, y_train)"
   ]
  },
  {
   "cell_type": "code",
   "execution_count": 84,
   "metadata": {},
   "outputs": [],
   "source": [
    "results = linearModel.predict(X_test)"
   ]
  },
  {
   "cell_type": "code",
   "execution_count": 92,
   "metadata": {},
   "outputs": [],
   "source": [
    "accuracy = mean_absolute_error(y_test, results)"
   ]
  },
  {
   "cell_type": "code",
   "execution_count": 93,
   "metadata": {},
   "outputs": [
    {
     "data": {
      "text/plain": [
       "0.31136081795452847"
      ]
     },
     "execution_count": 93,
     "metadata": {},
     "output_type": "execute_result"
    }
   ],
   "source": [
    "accuracy"
   ]
  },
  {
   "cell_type": "code",
   "execution_count": 90,
   "metadata": {},
   "outputs": [
    {
     "data": {
      "text/plain": [
       "count    1310.000000\n",
       "mean        2.593664\n",
       "std         1.418361\n",
       "min         0.100000\n",
       "25%         1.400000\n",
       "50%         2.600000\n",
       "75%         3.800000\n",
       "max         5.000000\n",
       "Name: Health Index, dtype: float64"
      ]
     },
     "execution_count": 90,
     "metadata": {},
     "output_type": "execute_result"
    }
   ],
   "source": [
    "df_17['Health Index'].describe()"
   ]
  }
 ],
 "metadata": {
  "kernelspec": {
   "display_name": "Python 3",
   "language": "python",
   "name": "python3"
  },
  "language_info": {
   "codemirror_mode": {
    "name": "ipython",
    "version": 3
   },
   "file_extension": ".py",
   "mimetype": "text/x-python",
   "name": "python",
   "nbconvert_exporter": "python",
   "pygments_lexer": "ipython3",
   "version": "3.8.5"
  }
 },
 "nbformat": 4,
 "nbformat_minor": 4
}
